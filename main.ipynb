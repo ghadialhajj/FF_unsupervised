{
 "cells": [
  {
   "cell_type": "code",
   "execution_count": null,
   "metadata": {
    "collapsed": false
   },
   "outputs": [],
   "source": [
    "!git clone https://github.com/ghadialhajj/FF_unsupervised.git foo; mv foo/* foo/.git* .; rm -r foo"
   ]
  },
  {
   "cell_type": "code",
   "execution_count": 1,
   "metadata": {
    "collapsed": false
   },
   "outputs": [],
   "source": [
    "from main import Unsupervised_FF, train, plot_loss\n",
    "import torch, torchvision\n",
    "from torch.utils.data import DataLoader\n",
    "from utils import prepare_data"
   ]
  },
  {
   "cell_type": "code",
   "execution_count": 4,
   "metadata": {
    "collapsed": false
   },
   "outputs": [],
   "source": [
    "prepare_data()\n",
    "\n",
    "# Load the MNIST dataset\n",
    "transform = torchvision.transforms.Compose([\n",
    "    torchvision.transforms.ToTensor()\n",
    "])\n",
    "pos_dataset = torchvision.datasets.MNIST(root='./', download=False, transform=transform, train=True)\n",
    "# pos_dataset = Subset(pos_dataset, list(range(1000)))\n",
    "# Create the data loader\n",
    "pos_dataloader = DataLoader(pos_dataset, batch_size=64, shuffle=True, num_workers=4)\n",
    "\n",
    "# Load the transformed images\n",
    "neg_dataset = torch.stack(torch.load('transformed_dataset.pt'))\n",
    "# Create the data loader\n",
    "neg_dataloader = DataLoader(neg_dataset, batch_size=64, shuffle=True, num_workers=4)\n",
    "\n",
    "# Load the test images\n",
    "test_dataset = torchvision.datasets.MNIST(root='./', train=False, download=False, transform=transform)\n",
    "# Create the data loader\n",
    "test_dataloader = DataLoader(test_dataset, batch_size=64, shuffle=True, num_workers=4)"
   ]
  },
  {
   "cell_type": "code",
   "execution_count": null,
   "metadata": {
    "collapsed": false
   },
   "outputs": [],
   "source": [
    "device = torch.device(\"cuda:0\")\n",
    "unsupervised_ff = Unsupervised_FF(device=device, n_epochs=100)\n",
    "\n",
    "loss = train(unsupervised_ff, pos_dataloader, neg_dataloader)"
   ]
  },
  {
   "cell_type": "code",
   "execution_count": null,
   "metadata": {
    "collapsed": false
   },
   "outputs": [],
   "source": [
    "plot_loss(loss)"
   ]
  },
  {
   "cell_type": "code",
   "execution_count": null,
   "metadata": {
    "collapsed": false
   },
   "outputs": [],
   "source": [
    "unsupervised_ff.evaluate(pos_dataloader, dataset_type=\"Train\")\n",
    "unsupervised_ff.evaluate(test_dataloader, dataset_type=\"Test\")"
   ]
  }
 ],
 "metadata": {
  "kernelspec": {
   "display_name": "Python 3",
   "language": "python",
   "name": "python3"
  },
  "language_info": {
   "codemirror_mode": {
    "name": "ipython",
    "version": 3
   },
   "file_extension": ".py",
   "mimetype": "text/x-python",
   "name": "python",
   "nbconvert_exporter": "python",
   "pygments_lexer": "ipython3",
   "version": "3.11.4"
  }
 },
 "nbformat": 4,
 "nbformat_minor": 0
}
